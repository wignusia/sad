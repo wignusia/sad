{
 "cells": [
  {
   "cell_type": "markdown",
   "id": "df1d774f",
   "metadata": {
    "slideshow": {
     "slide_type": "slide"
    }
   },
   "source": [
    "# 01 - Python - podstawy"
   ]
  },
  {
   "cell_type": "code",
   "execution_count": null,
   "id": "6944d996",
   "metadata": {},
   "outputs": [],
   "source": []
  },
  {
   "cell_type": "markdown",
   "id": "85036752",
   "metadata": {
    "slideshow": {
     "slide_type": "slide"
    }
   },
   "source": [
    "## Python 4 Data Science\n",
    "\n",
    "<a href=\"https://www.tomasbeuzen.com/python-programming-for-data-science/README.html\" target=\"new\"><center><img src=\"p4ds.png\" alt=\"Python 4 DS\" width=\"100\"/></center></a>\n",
    "\n",
    "Tutaj omówimy niezbędne dla analizy danych **podstawy Pythona**.\n",
    "\n",
    "- Zmienne.\n",
    "- Funkcje.  \n",
    "- Wyrażenia warunkowe.\n",
    "- Pętle. "
   ]
  },
  {
   "cell_type": "markdown",
   "id": "2d8badf4",
   "metadata": {
    "slideshow": {
     "slide_type": "slide"
    }
   },
   "source": [
    "## Zmiennne\n",
    "\n",
    "> **Zmienna** przechowuje określoną wartość.  \n",
    "\n",
    "- W przeciwieństwie do literałów (np. `int`), wartość zmiennej może się zmieniać (tj. może **zmienna**).  \n",
    "- Zmienne mogą być przypisywane przy użyciu **operatora przypisania** (`=`). \n",
    "- Po przypisaniu zmiennej, można jej *używać* odwołując się do jej nazwy."
   ]
  },
  {
   "cell_type": "code",
   "execution_count": 1,
   "id": "78a10b79",
   "metadata": {
    "slideshow": {
     "slide_type": "-"
    }
   },
   "outputs": [],
   "source": [
    "## Przykładowa zmienna\n",
    "my_int = 5"
   ]
  },
  {
   "cell_type": "code",
   "execution_count": 2,
   "id": "676c5e04",
   "metadata": {
    "slideshow": {
     "slide_type": "-"
    }
   },
   "outputs": [
    {
     "data": {
      "text/plain": [
       "7"
      ]
     },
     "execution_count": 2,
     "metadata": {},
     "output_type": "execute_result"
    }
   ],
   "source": [
    "## Użycie tej zmiennej\n",
    "my_int + 2"
   ]
  },
  {
   "cell_type": "code",
   "execution_count": 3,
   "id": "12c16b7c",
   "metadata": {
    "slideshow": {
     "slide_type": "-"
    }
   },
   "outputs": [
    {
     "data": {
      "text/plain": [
       "15"
      ]
     },
     "execution_count": 3,
     "metadata": {},
     "output_type": "execute_result"
    }
   ],
   "source": [
    "## Zmiana wartości zmiennej\n",
    "my_int += 10\n",
    "my_int"
   ]
  },
  {
   "cell_type": "markdown",
   "id": "abadb0b5",
   "metadata": {
    "slideshow": {
     "slide_type": "slide"
    }
   },
   "source": [
    "### Zasady przypisywania zmiennych\n",
    "\n",
    "- Nazwy po lewej, wartości po prawej (np. `test_var = 2`).  \n",
    "- W nazwach rozróżniana jest wielkość liter (zmienna `test_var` nie może być dostępna z `test_VAR`).  \n",
    "- Nazwy zmiennych muszą zaczynać się od litery.  \n",
    "   - Mogą zawierać liczbę (np. `test1`) lub zaniżony wynik, ale nie mogą *zaczynać się* od liczby lub zaniżonego wyniku. \n",
    "- Python [*przeważnie*](https://realpython.com/lessons/reserved-keywords/) nie dba o to, jak nazwiesz swoje zmienne, choć powinieneś(aś)!\n",
    "   - Pamiętaj, że kod ma być **czytany** przez innych - więc upewnij się, że jest jasny!"
   ]
  },
  {
   "cell_type": "markdown",
   "id": "f422279c",
   "metadata": {
    "slideshow": {
     "slide_type": "slide"
    }
   },
   "source": [
    "### `typy` obiektów\n",
    "\n",
    "Wartość przypisana do zmiennej może mieć różne [**typy**](https://www.w3schools.com/python/python_datatypes.asp). \n",
    "\n",
    "Oto niektóre z możliwych **typów** w Pythonie:\n",
    "\n",
    "| Typ | Opis | Przykład |\n",
    "| ---- | ----------- | ------- |\n",
    "| `str` | String/text | `\"A String\"`|\n",
    "| `int` | Integer     | `2`|\n",
    "| `float` | Float       | `2.6789`|\n",
    "| `list`| List | `[1, 2, 3]`|\n",
    "| `dict`| Dictionary | `{'a': 2}`|\n",
    "| `bool`| Boolean | `True`|\n",
    "| `NoneType`| None | `None`|"
   ]
  },
  {
   "cell_type": "markdown",
   "id": "b0d75659",
   "metadata": {
    "slideshow": {
     "slide_type": "slide"
    }
   },
   "source": [
    "### Niektóre `typy` mają specjalne funkcje\n",
    "\n",
    "W Pythonie różne `typy` obiektów mają różne funkcje.\n",
    "\n",
    "- Obiekt `str` ma funkcję `replace` i `split`.  \n",
    "- Obiekt `list` ma funkcję `append` i `join`."
   ]
  },
  {
   "cell_type": "code",
   "execution_count": 4,
   "id": "e598445f",
   "metadata": {
    "slideshow": {
     "slide_type": "-"
    }
   },
   "outputs": [
    {
     "data": {
      "text/plain": [
       "'CSS 2'"
      ]
     },
     "execution_count": 4,
     "metadata": {},
     "output_type": "execute_result"
    }
   ],
   "source": [
    "my_str = \"CSS 1\"\n",
    "my_str = my_str.replace(\"1\", \"2\")\n",
    "my_str"
   ]
  },
  {
   "cell_type": "code",
   "execution_count": 5,
   "id": "c3ae5caf",
   "metadata": {
    "slideshow": {
     "slide_type": "-"
    }
   },
   "outputs": [
    {
     "data": {
      "text/plain": [
       "['CSS', '2']"
      ]
     },
     "execution_count": 5,
     "metadata": {},
     "output_type": "execute_result"
    }
   ],
   "source": [
    "my_str.split(\" \")"
   ]
  },
  {
   "cell_type": "markdown",
   "id": "1b41d8a2",
   "metadata": {
    "slideshow": {
     "slide_type": "slide"
    }
   },
   "source": [
    "### Niektóre typy są „kolekcjami”\n",
    "\n",
    "- Zarówno `list` jak i `dict` przechowują **kolekcje** elementów."
   ]
  },
  {
   "cell_type": "code",
   "execution_count": 6,
   "id": "b78163f8",
   "metadata": {
    "slideshow": {
     "slide_type": "-"
    }
   },
   "outputs": [
    {
     "data": {
      "text/plain": [
       "[1, 2, 'a']"
      ]
     },
     "execution_count": 6,
     "metadata": {},
     "output_type": "execute_result"
    }
   ],
   "source": [
    "### Przykładowa lista\n",
    "my_list = [1, 2, \"a\"]\n",
    "my_list"
   ]
  },
  {
   "cell_type": "code",
   "execution_count": 7,
   "id": "2d7a353a",
   "metadata": {
    "slideshow": {
     "slide_type": "-"
    }
   },
   "outputs": [
    {
     "data": {
      "text/plain": [
       "{'a': 1, 'b': 2}"
      ]
     },
     "execution_count": 7,
     "metadata": {},
     "output_type": "execute_result"
    }
   ],
   "source": [
    "### Przykładowy słownik\n",
    "my_dictionary = {'a': 1, 'b': 2}\n",
    "my_dictionary"
   ]
  },
  {
   "cell_type": "markdown",
   "id": "72767900",
   "metadata": {
    "slideshow": {
     "slide_type": "slide"
    }
   },
   "source": [
    "## Funkcje\n",
    "\n",
    "> **Funkcja** jest fragmentem kodu wielokrotnego użytku, który wykonuje pewną operację (zazwyczaj na pewnym *wejściu*), a następnie zazwyczaj zwraca wynik (tj. *wyjście*). \n",
    "\n",
    "Funkcja jest definiowana za pomocą słowa kluczowego `def`:\n",
    "\n",
    "```python\n",
    "def func_name(arg1):\n",
    "    ### Cokoliwek robi ta funkcja ;-)\n",
    "    return some_value\n",
    "```\n",
    "\n",
    "Po utworzeniu funkcji można jej *używać*."
   ]
  },
  {
   "cell_type": "markdown",
   "id": "f97248a1",
   "metadata": {
    "slideshow": {
     "slide_type": "slide"
    }
   },
   "source": [
    "### Funkcje: prosty przykład\n",
    "\n",
    "Poniższa funkcja `kwadrat` zwraca wynik mnożenia wejściowego `x` przez siebie."
   ]
  },
  {
   "cell_type": "code",
   "execution_count": 8,
   "id": "18fbac04",
   "metadata": {
    "slideshow": {
     "slide_type": "-"
    }
   },
   "outputs": [],
   "source": [
    "def square(x):\n",
    "    return x * x"
   ]
  },
  {
   "cell_type": "code",
   "execution_count": 9,
   "id": "51cb9dd8",
   "metadata": {
    "slideshow": {
     "slide_type": "-"
    }
   },
   "outputs": [
    {
     "data": {
      "text/plain": [
       "4"
      ]
     },
     "execution_count": 9,
     "metadata": {},
     "output_type": "execute_result"
    }
   ],
   "source": [
    "square(2)"
   ]
  },
  {
   "cell_type": "code",
   "execution_count": 10,
   "id": "361146ff",
   "metadata": {
    "slideshow": {
     "slide_type": "-"
    }
   },
   "outputs": [
    {
     "data": {
      "text/plain": [
       "9"
      ]
     },
     "execution_count": 10,
     "metadata": {},
     "output_type": "execute_result"
    }
   ],
   "source": [
    "square(3)"
   ]
  },
  {
   "cell_type": "markdown",
   "id": "ce747f01",
   "metadata": {
    "slideshow": {
     "slide_type": "slide"
    }
   },
   "source": [
    "### Sprawdzanie: funkcje a zmienne\n",
    "\n",
    "Załóżmy, że definiujemy funkcję o nazwie `cube`, która **obejmuje** pewne dane wejściowe `x`. Jak moglibyśmy *wywołać* tę funkcję, np. na wejściu takim jak `2`?\n",
    "\n",
    "- `cube`\n",
    "- `cube()`\n",
    "- `cube(2)`\n",
    "- `cube 2`"
   ]
  },
  {
   "cell_type": "markdown",
   "id": "b274d641",
   "metadata": {
    "slideshow": {
     "slide_type": "slide"
    }
   },
   "source": [
    "### Twoja kolej: dekodowanie funkcji\n",
    "\n",
    "Co robi poniższa funkcja?"
   ]
  },
  {
   "cell_type": "code",
   "execution_count": 11,
   "id": "c16a0029",
   "metadata": {
    "slideshow": {
     "slide_type": "-"
    }
   },
   "outputs": [],
   "source": [
    "def mystery_func(x, n):\n",
    "    return x % n == 0"
   ]
  },
  {
   "cell_type": "markdown",
   "id": "7b5ac565",
   "metadata": {
    "slideshow": {
     "slide_type": "slide"
    }
   },
   "source": [
    "#### Rozwiązanie\n",
    "\n",
    "Tutaj `mystery_func` sprawdza czy `x` jest podzielne przez `n`."
   ]
  },
  {
   "cell_type": "code",
   "execution_count": 12,
   "id": "78f16c30",
   "metadata": {
    "slideshow": {
     "slide_type": "-"
    }
   },
   "outputs": [
    {
     "data": {
      "text/plain": [
       "True"
      ]
     },
     "execution_count": 12,
     "metadata": {},
     "output_type": "execute_result"
    }
   ],
   "source": [
    "mystery_func(10, 2)"
   ]
  },
  {
   "cell_type": "code",
   "execution_count": 13,
   "id": "e27b2ae9",
   "metadata": {
    "slideshow": {
     "slide_type": "-"
    }
   },
   "outputs": [
    {
     "data": {
      "text/plain": [
       "False"
      ]
     },
     "execution_count": 13,
     "metadata": {},
     "output_type": "execute_result"
    }
   ],
   "source": [
    "mystery_func(10, 3)"
   ]
  },
  {
   "cell_type": "markdown",
   "id": "870f28ce",
   "metadata": {
    "slideshow": {
     "slide_type": "slide"
    }
   },
   "source": [
    "### Wartości domyślne\n",
    "\n",
    "> **Wartość domyślna** jest wartością przyjmowaną przez argument *domyślnie*. Jeśli nie określono innej wartości, jest to wartość przyjmowana przez funkcję.\n",
    "\n",
    "W definicji funkcji, wartość domyślna może być określona poprzez ustawienie: `arg_name = default_value`.\n",
    "\n",
    "- W poniższym przykładzie, `x` jest wymagane.\n",
    "- Ale `n` ma wartość domyślną `2`."
   ]
  },
  {
   "cell_type": "code",
   "execution_count": 14,
   "id": "0ae3425f",
   "metadata": {
    "slideshow": {
     "slide_type": "-"
    }
   },
   "outputs": [],
   "source": [
    "def is_divisible(x, n = 2):\n",
    "    return x % n == 0"
   ]
  },
  {
   "cell_type": "code",
   "execution_count": 15,
   "id": "a53a51d8",
   "metadata": {
    "slideshow": {
     "slide_type": "-"
    }
   },
   "outputs": [
    {
     "data": {
      "text/plain": [
       "True"
      ]
     },
     "execution_count": 15,
     "metadata": {},
     "output_type": "execute_result"
    }
   ],
   "source": [
    "is_divisible(10) ### Zakładając n = 2"
   ]
  },
  {
   "cell_type": "code",
   "execution_count": 16,
   "id": "feae0a97",
   "metadata": {},
   "outputs": [
    {
     "data": {
      "text/plain": [
       "False"
      ]
     },
     "execution_count": 16,
     "metadata": {},
     "output_type": "execute_result"
    }
   ],
   "source": [
    "is_divisible(10, 3) ### Nadpisanie z n = 3"
   ]
  },
  {
   "cell_type": "markdown",
   "id": "0b18feb8",
   "metadata": {
    "slideshow": {
     "slide_type": "slide"
    }
   },
   "source": [
    "### Argumenty pozycyjne a argumenty słów kluczowych\n",
    "\n",
    "Argument funkcji może być wskazany za pomocą **pozycji** lub **słowa kluczowego**. Który z tych sposobów został przedstawiony w poniższym kodzie? \n",
    "\n",
    "- Pozycyjny\n",
    "- Słowo kluczowe\n",
    "- Oba"
   ]
  },
  {
   "cell_type": "code",
   "execution_count": 17,
   "id": "a46d933e",
   "metadata": {
    "slideshow": {
     "slide_type": "-"
    }
   },
   "outputs": [
    {
     "data": {
      "text/plain": [
       "True"
      ]
     },
     "execution_count": 17,
     "metadata": {},
     "output_type": "execute_result"
    }
   ],
   "source": [
    "is_divisible(24, n = 3)"
   ]
  },
  {
   "cell_type": "markdown",
   "id": "0ad04411",
   "metadata": {
    "slideshow": {
     "slide_type": "slide"
    }
   },
   "source": [
    "## Kontrola przepływu \n",
    "\n",
    "> Przepływ sterowania odnosi się do narzędzi, których możemy użyć do kontrolowania, które linie kodu są wykonywane i kiedy.\n",
    "\n",
    "W Pythonie istnieją dwa główne sposoby kontrolowania „przepływu” naszego programu:\n",
    "\n",
    "- **Stwierdzenia warunkowe**: `if/elif/else`\n",
    "- **Pętle**: `for/while`"
   ]
  },
  {
   "cell_type": "markdown",
   "id": "825e1d3d",
   "metadata": {
    "slideshow": {
     "slide_type": "slide"
    }
   },
   "source": [
    "## Instrukcje warunkowe\n",
    "\n",
    "> W skrócie, **warunek** jest instrukcją, która sprawdza, czy jakiś *warunek* jest spełniony.\n",
    "\n",
    "Możemy użyć polecenia `if`, aby **kontrolować**, które linie kodu są wykonywane."
   ]
  },
  {
   "cell_type": "code",
   "execution_count": 18,
   "id": "c1e4ae75",
   "metadata": {
    "slideshow": {
     "slide_type": "-"
    }
   },
   "outputs": [
    {
     "name": "stdout",
     "output_type": "stream",
     "text": [
      "Te ciągi są takie same.\n"
     ]
    }
   ],
   "source": [
    "x = 'Jeden ciąg znaków'\n",
    "y = 'Jeden ciąg znaków'\n",
    "if x == y:\n",
    "    print('Te ciągi są takie same.')"
   ]
  },
  {
   "cell_type": "markdown",
   "id": "1c6d7869",
   "metadata": {
    "slideshow": {
     "slide_type": "slide"
    }
   },
   "source": [
    "### `else`\n",
    "\n",
    "> Instrukcja `else` mówi Pythonowi, co zrobić, jeśli instrukcja `if` ma wartość `False`."
   ]
  },
  {
   "cell_type": "code",
   "execution_count": 19,
   "id": "f67a2f8b",
   "metadata": {
    "slideshow": {
     "slide_type": "-"
    }
   },
   "outputs": [
    {
     "name": "stdout",
     "output_type": "stream",
     "text": [
      "Te ciągi są różne\n"
     ]
    }
   ],
   "source": [
    "x = \"Jeden ciąg\"\n",
    "y = \"Inny ciąg znaków\"\n",
    "if x == y:\n",
    "    print(\"Te ciągi są takie same.\")\n",
    "else:\n",
    "    print(\"Te ciągi są różne\")"
   ]
  },
  {
   "cell_type": "markdown",
   "id": "0ee265da",
   "metadata": {
    "slideshow": {
     "slide_type": "slide"
    }
   },
   "source": [
    "### Instrukcje warunkowe i funkcje\n",
    "\n",
    "Instrukcje warunkowe stają się szczególnie przydatne, gdy połączymy je z funkcjami."
   ]
  },
  {
   "cell_type": "code",
   "execution_count": 20,
   "id": "73bd285c",
   "metadata": {
    "slideshow": {
     "slide_type": "-"
    }
   },
   "outputs": [],
   "source": [
    "def square_if_even(x):\n",
    "    if x % 2 == 0:\n",
    "        return x ** 2\n",
    "    else:\n",
    "        return x"
   ]
  },
  {
   "cell_type": "markdown",
   "id": "9bfad6b4",
   "metadata": {
    "slideshow": {
     "slide_type": "slide"
    }
   },
   "source": [
    "### Twoja kolej!\n",
    "\n",
    "Jak napisać funkcję `fizzbuzz`, która:\n",
    "\n",
    "- przyjmuje liczbę `x` jako dane wejściowe. \n",
    "- zwraca „Fizz”, jeśli liczba jest podzielna przez `3`.\n",
    "- zwraca „Buzz” jeśli liczba jest podzielna przez `5`.\n",
    "- zwraca „FizzBuzz” jeśli liczba jest podzielna zarówno przez `3` jak i `5`."
   ]
  },
  {
   "cell_type": "code",
   "execution_count": 21,
   "id": "5df2549c",
   "metadata": {
    "slideshow": {
     "slide_type": "-"
    }
   },
   "outputs": [],
   "source": [
    "### Twój kod tutaj"
   ]
  },
  {
   "cell_type": "code",
   "execution_count": 22,
   "id": "f739fdcd",
   "metadata": {
    "slideshow": {
     "slide_type": "slide"
    }
   },
   "outputs": [],
   "source": [
    "# Odkomentuj następującą linię, aby zobaczyć rozwiązanie:\n",
    "# %load ./solutions/solution1.py"
   ]
  },
  {
   "cell_type": "markdown",
   "id": "60daa0a8",
   "metadata": {
    "slideshow": {
     "slide_type": "slide"
    }
   },
   "source": [
    "### Twoja kolej!\n",
    "\n",
    "Jak napisać funkcję o nazwie `contains_letter`, która:\n",
    "\n",
    "- Pobiera zarówno `słowo` jak i `literę` jako dane wejściowe.  \n",
    "- Sprawdza, czy `słowo` zawiera tę `literę`.\n",
    "  - Jeśli tak, wypisuje „Tak”.\n",
    "  - W przeciwnym razie, wypisuje „Nie”."
   ]
  },
  {
   "cell_type": "code",
   "execution_count": 23,
   "id": "820aebe5",
   "metadata": {
    "slideshow": {
     "slide_type": "-"
    }
   },
   "outputs": [],
   "source": [
    "### Twój kod tutaj!"
   ]
  },
  {
   "cell_type": "code",
   "execution_count": 24,
   "id": "c6103420",
   "metadata": {
    "slideshow": {
     "slide_type": "-"
    }
   },
   "outputs": [],
   "source": [
    "# Odkomentuj następującą linię, aby zobaczyć rozwiązanie:\n",
    "# %load ./solutions/solution2.py"
   ]
  },
  {
   "cell_type": "code",
   "execution_count": 25,
   "id": "b08a856f",
   "metadata": {
    "slideshow": {
     "slide_type": "-"
    }
   },
   "outputs": [],
   "source": [
    "# contains_letter(\"dog\", \"o\")"
   ]
  },
  {
   "cell_type": "code",
   "execution_count": 26,
   "id": "f6a16de2",
   "metadata": {
    "slideshow": {
     "slide_type": "-"
    }
   },
   "outputs": [],
   "source": [
    "# contains_letter(\"cat\", \"o\")"
   ]
  },
  {
   "cell_type": "markdown",
   "id": "d02998c0",
   "metadata": {
    "slideshow": {
     "slide_type": "slide"
    }
   },
   "source": [
    "## Pętle\n",
    "\n",
    "> Pętla to sposób na wielokrotne powtarzanie tego samego fragmentu kodu."
   ]
  },
  {
   "cell_type": "markdown",
   "id": "838b115f",
   "metadata": {
    "slideshow": {
     "slide_type": "slide"
    }
   },
   "source": [
    "### Kiedy należy używać pętli?\n",
    "\n",
    "**Zasada kciuka**: jeśli zauważysz, że kopiujesz/wklejasz ten sam kod wiele razy... możesz pomyśleć o użyciu pętli!  \n",
    "\n",
    "Mówiąc bardziej ogólnie: w programowaniu często chcemy wykonać tę samą czynność *wielokrotnie*. \n",
    "\n",
    "- Zastosuj tę samą instrukcję do każdego elementu na `liście`.  \n",
    "- Kontynuować wykonywanie kodu do momentu spełnienia określonego warunku.  "
   ]
  },
  {
   "cell_type": "markdown",
   "id": "170f9fc1",
   "metadata": {
    "slideshow": {
     "slide_type": "slide"
    }
   },
   "source": [
    "### pętle `for` w akcji\n",
    "\n",
    "> Pętla `for` jest używana do [iteracji po sekwencji](https://www.w3schools.com/python/python_for_loops.asp). \n",
    "\n",
    "Pętla `for` używa składni: \n",
    "\n",
    "```python\n",
    "for elem in list_name:\n",
    "    # rób coś\n",
    "```"
   ]
  },
  {
   "cell_type": "code",
   "execution_count": 27,
   "id": "7b8733b7",
   "metadata": {
    "slideshow": {
     "slide_type": "-"
    }
   },
   "outputs": [
    {
     "name": "stdout",
     "output_type": "stream",
     "text": [
      "1\n",
      "2\n",
      "3\n"
     ]
    }
   ],
   "source": [
    "## To jest lista w Pythonie\n",
    "numbers = [1, 2, 3]\n",
    "### To jest pętla for\n",
    "for number in numbers:  \n",
    "    print(number)"
   ]
  },
  {
   "cell_type": "markdown",
   "id": "675973e4",
   "metadata": {
    "slideshow": {
     "slide_type": "slide"
    }
   },
   "source": [
    "### pętle `for` i funkcje\n",
    "\n",
    "Podobnie jak instrukcje `if`, pętla `for` staje się szczególnie potężna w połączeniu z funkcją."
   ]
  },
  {
   "cell_type": "code",
   "execution_count": 28,
   "id": "9d18b20e",
   "metadata": {
    "slideshow": {
     "slide_type": "-"
    }
   },
   "outputs": [],
   "source": [
    "def multiply_list(numbers):\n",
    "    product = 1 ## dlaczego zaczynam od 1, a nie od 0?\n",
    "    for i in numbers:\n",
    "        product *= i\n",
    "    return product ## zwróć uwagę na wcięcie!"
   ]
  },
  {
   "cell_type": "code",
   "execution_count": 29,
   "id": "a9f7d785",
   "metadata": {
    "slideshow": {
     "slide_type": "-"
    }
   },
   "outputs": [
    {
     "data": {
      "text/plain": [
       "6"
      ]
     },
     "execution_count": 29,
     "metadata": {},
     "output_type": "execute_result"
    }
   ],
   "source": [
    "multiply_list([1, 2, 3])"
   ]
  },
  {
   "cell_type": "markdown",
   "id": "44ae4225",
   "metadata": {
    "slideshow": {
     "slide_type": "slide"
    }
   },
   "source": [
    "### Twoja kolej!\n",
    "\n",
    "Napisz funkcję o nazwie `znajdz_samogloski`, która:\n",
    "\n",
    "- przyjmuje jako wejście `str`.\n",
    "- zwraca listę **samogłosek** w tym ciągu."
   ]
  },
  {
   "cell_type": "code",
   "execution_count": 30,
   "id": "35753ce2",
   "metadata": {
    "slideshow": {
     "slide_type": "-"
    }
   },
   "outputs": [],
   "source": [
    "### Twój kod tutaj."
   ]
  },
  {
   "cell_type": "code",
   "execution_count": 31,
   "id": "f81a9a35",
   "metadata": {},
   "outputs": [],
   "source": [
    "# Odkomentuj następującą linię, aby zobaczyć rozwiązanie:\n",
    "# %load ./solutions/solution3.py"
   ]
  },
  {
   "cell_type": "code",
   "execution_count": 32,
   "id": "4f91f032",
   "metadata": {},
   "outputs": [],
   "source": [
    "# znajdz_samogloski(\"programming\")"
   ]
  },
  {
   "cell_type": "code",
   "execution_count": 33,
   "id": "8209d417",
   "metadata": {},
   "outputs": [],
   "source": [
    "# znajdz_samogloski(\"cat\")"
   ]
  },
  {
   "cell_type": "markdown",
   "id": "d4037edb",
   "metadata": {
    "slideshow": {
     "slide_type": "slide"
    }
   },
   "source": [
    "## Podsumowanie\n",
    "\n",
    "W zamierzeniu miał to być **szybki przegląd** podstaw Pythona, w tym:\n",
    "\n",
    "- Podstawowa składnia Pythona.  \n",
    "- Definiowanie funkcji.\n",
    "- Używanie instrukcji `if`.\n",
    "- Używanie pętli `for`.\n",
    "\n",
    "Następnym razem przejrzymy pakiety, które będą pomocne w pracy z danymi, takie jak `pandas`."
   ]
  }
 ],
 "metadata": {
  "celltoolbar": "Slideshow",
  "kernelspec": {
   "display_name": "Python 3",
   "language": "python",
   "name": "python3"
  },
  "language_info": {
   "codemirror_mode": {
    "name": "ipython",
    "version": 3
   },
   "file_extension": ".py",
   "mimetype": "text/x-python",
   "name": "python",
   "nbconvert_exporter": "python",
   "pygments_lexer": "ipython3",
   "version": "3.13.2"
  }
 },
 "nbformat": 4,
 "nbformat_minor": 5
}
